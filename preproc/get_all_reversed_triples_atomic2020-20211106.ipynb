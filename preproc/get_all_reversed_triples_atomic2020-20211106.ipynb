{
 "cells": [
  {
   "cell_type": "markdown",
   "metadata": {},
   "source": [
    "# Process ATOMIC and add inversed relations"
   ]
  },
  {
   "cell_type": "code",
   "execution_count": 71,
   "metadata": {},
   "outputs": [],
   "source": [
    "tail_processed_relations = ['oEffect', 'oReact', 'oWant', 'xAttr', \n",
    "             'xIntent', 'xNeed', 'xReact', 'xWant', 'xEffect']\n",
    "# isBefore, isAfter, HinderedBy, leave it alone.\n",
    "\n",
    "# make ATOMIC tails complete sentences\n",
    "import spacy\n",
    "\n",
    "nlp = spacy.load(\"en_core_web_lg\")\n",
    "\n",
    "def contain_subject(sent):\n",
    "    return any([tk.dep_ in ['nsubj', 'nsubjpass'] for tk in nlp(sent) ])\n",
    "  \n",
    "# def process_tail(tail, r):\n",
    "#     if contain_subject(tail):\n",
    "#         return tail\n",
    "#     else:\n",
    "#         if r in ['xEffect']:\n",
    "#             return \"PersonX \" + tail\n",
    "#         elif r in ['xNeed']:\n",
    "#             initial_word = tail.split()[0]\n",
    "#             if initial_word == \"to\":\n",
    "#                 return \"PersonX needs \" + tail\n",
    "#             elif initial_word in [\"need\", \"needs\"]:\n",
    "#                 return \"PersonX \" + tail\n",
    "#             else:\n",
    "#                 return \"PersonX needs to \" + tail\n",
    "#         elif r in ['xWant']:\n",
    "#             initial_word = tail.split()[0]\n",
    "#             if initial_word == \"to\":\n",
    "#                 return \"PersonX wants \" + tail\n",
    "#             elif initial_word in [\"want\", \"wants\"]:\n",
    "#                 return \"PersonX \" + tail\n",
    "#             else:\n",
    "#                 return \"PersonX wants to \" + tail\n",
    "#         elif r in ['xIntent']:\n",
    "#             initial_word = tail.split()[0]\n",
    "#             if initial_word == \"to\":\n",
    "#                 return \"PersonX \" + \" \".join(tail.split()[1:])\n",
    "#             else:\n",
    "#                 return \"PersonX \" + tail\n",
    "#         elif r  in ['oEffect']:\n",
    "#             return \"PersonY \" + tail\n",
    "#         elif r in ['oWant']:\n",
    "#             initial_word = tail.split()[0]\n",
    "#             if initial_word == \"to\":\n",
    "#                 return \"PersonY wants \" + tail\n",
    "#             elif initial_word in [\"want\", \"wants\"]:\n",
    "#                 return \"PersonY \" + tail\n",
    "#             else:\n",
    "#                 return \"PersonY wants to \" + tail\n",
    "#         elif r == 'xReact':\n",
    "#             return \"PersonX feels \" + tail\n",
    "#         elif r == 'oReact':\n",
    "#             return \"PersonY feels \" + tail\n",
    "#         elif r == 'xAttr':\n",
    "#             return \"PersonX is \" + tail\n",
    "\n",
    "def process_tail(tail, r):\n",
    "    # 1. if it's already a complete sentence (indicated by the initial PersonX/Y), \n",
    "    #    do nothing\n",
    "    if tail.startswith(\"PersonX\") or tail.startswith(\"PersonY\") or \\\n",
    "        tail.startswith(\"they\") or tail.lower().startswith(\"person\"):\n",
    "        return tail\n",
    "    # 2. Deal with individual situations\n",
    "    if r == \"oEffect\":\n",
    "        if not contain_subject(tail):\n",
    "            return \"PersonY \" + tail\n",
    "        else:\n",
    "            return tail\n",
    "    elif r == \"oReact\":\n",
    "        if not contain_subject(tail):\n",
    "            return \"PersonY feels \" + tail\n",
    "        else:\n",
    "            return tail\n",
    "    elif r == \"oWant\":\n",
    "        initial = tail.split()[0]\n",
    "        if initial.lower() == \"to\":\n",
    "            return \"PersonY wants \" + tail\n",
    "        elif initial.lower() in [\"want\", \"wants\"]:\n",
    "            return \"PersonY \" + tail\n",
    "        else:\n",
    "            if not contain_subject(tail): # no subjects\n",
    "                return \"PersonY wants to \" + tail\n",
    "            else:\n",
    "                return tail\n",
    "    elif r == \"xAttr\":\n",
    "        if not contain_subject(tail):\n",
    "            return \"PersonX is \" + tail\n",
    "        else:\n",
    "            return tail\n",
    "    elif r == \"xIntent\":\n",
    "        initial = tail.split()[0]\n",
    "        if initial.lower() == \"to\":\n",
    "            return \"PersonX \" + \" \".join(tail.split()[1:])\n",
    "        else:\n",
    "            if not contain_subject(tail):\n",
    "                return \"PersonX \" + tail\n",
    "            else:\n",
    "                return tail\n",
    "    elif r == \"xNeed\":\n",
    "        initial = tail.split()[0]\n",
    "        if initial.lower() == \"to\":\n",
    "            return \"PersonX needs \" + tail\n",
    "        elif initial.lower() in [\"need\", \"needs\"]:\n",
    "            return \"PersonX \" + tail\n",
    "        else:\n",
    "            if not contain_subject(tail):\n",
    "                return \"PersonX needs to \" + tail\n",
    "            else:\n",
    "                return tail\n",
    "    elif r == \"xReact\":\n",
    "        if not contain_subject(tail):\n",
    "            return \"PersonX feels \" + tail\n",
    "        else:\n",
    "            return tail\n",
    "    elif r == \"xEffect\":\n",
    "        if not contain_subject(tail):\n",
    "            return \"PersonX \" + tail\n",
    "        else:\n",
    "            return tail\n",
    "    elif r == \"xWant\":\n",
    "        initial = tail.split()[0]\n",
    "        if initial.lower() == \"to\":\n",
    "            return \"PersonX wants \" + tail\n",
    "        elif initial.lower() in [\"want\", \"wants\"]:\n",
    "            return \"PersonX \" + tail\n",
    "        else:\n",
    "            if not contain_subject(tail):\n",
    "                return \"PersonX wants to \" + tail\n",
    "            else:\n",
    "                return tail\n",
    "    "
   ]
  },
  {
   "cell_type": "code",
   "execution_count": 57,
   "metadata": {},
   "outputs": [
    {
     "name": "stderr",
     "output_type": "stream",
     "text": [
      "1076880it [01:19, 13532.93it/s]\n"
     ]
    }
   ],
   "source": [
    "relation_tails = {r:[] for r in tail_processed_relations}\n",
    "\n",
    "for i, (head, relation, tail) in tqdm(comet_datasets[\"train\"][[\"head_event\", \"relation\", \"tail_event\"]].iterrows()):\n",
    "    if relation in relation_tails:\n",
    "        relation_tails[relation].append(tail)"
   ]
  },
  {
   "cell_type": "code",
   "execution_count": 61,
   "metadata": {},
   "outputs": [
    {
     "name": "stdout",
     "output_type": "stream",
     "text": [
      "oEffect [('none', 33428), ('gets', 2021), ('PersonY', 1775), ('they', 1384), ('is', 1223), ('Person', 966), ('smiles', 627), ('becomes', 612), ('has', 598), ('person', 424)]\n",
      "\n",
      "oReact [('none', 25761), ('happy', 3475), ('grateful', 1784), ('thankful', 1081), ('sad', 750), ('angry', 688), ('loved', 597), ('like', 568), ('excited', 520), ('annoyed', 519)]\n",
      "\n",
      "oWant [('to', 34285), ('none', 29518), ('To', 1271), ('thank', 484), ('get', 423), ('go', 329), ('talk', 248), ('ask', 222), ('PersonX', 187), ('say', 177)]\n",
      "\n",
      "xAttr [('helpful', 2618), ('curious', 1948), ('friendly', 1879), ('caring', 1662), ('responsible', 1653), ('determined', 1501), ('kind', 1196), ('generous', 1163), ('smart', 1063), ('thoughtful', 978)]\n",
      "\n",
      "xIntent [('to', 39891), ('none', 8419), ('a', 527), ('be', 359), ('the', 343), ('they', 274), ('get', 273), ('person', 227), ('wants', 204), ('help', 185)]\n",
      "\n",
      "xNeed [('to', 52432), ('none', 13864), ('get', 2776), ('go', 1726), ('To', 1513), ('find', 1445), ('have', 1377), ('buy', 880), ('a', 809), ('make', 692)]\n",
      "\n",
      "xReact [('happy', 7083), ('satisfied', 3263), ('good', 2081), ('excited', 1853), ('like', 1755), ('accomplished', 1690), ('relieved', 1582), ('proud', 1485), ('helpful', 1191), ('tired', 1023)]\n",
      "\n",
      "xWant [('to', 75892), ('To', 3290), ('get', 1473), ('go', 1334), ('take', 943), ('make', 633), ('have', 447), ('talk', 432), ('for', 385), ('put', 385)]\n",
      "\n",
      "xEffect [('gets', 11042), ('none', 8652), ('PersonX', 5507), ('is', 4323), ('becomes', 1954), ('they', 1881), ('has', 1746), ('Person', 1527), ('smiles', 1158), ('gains', 1014)]\n",
      "\n"
     ]
    }
   ],
   "source": [
    "from collections import Counter\n",
    "for r in relation_tails:\n",
    "    inital_cnter = Counter([tail.split()[0] for tail in relation_tails[r] if isinstance(tail, str)])\n",
    "    print(r, sorted(inital_cnter.items(), key=lambda x:x[1], reverse=True)[:10])\n",
    "    print()"
   ]
  },
  {
   "cell_type": "markdown",
   "metadata": {},
   "source": [
    "# Process"
   ]
  },
  {
   "cell_type": "code",
   "execution_count": 78,
   "metadata": {},
   "outputs": [
    {
     "name": "stderr",
     "output_type": "stream",
     "text": [
      "1076880it [30:20, 591.50it/s]  \n"
     ]
    },
    {
     "name": "stdout",
     "output_type": "stream",
     "text": [
      "train reversed len: 957050 original len: 1076880\n"
     ]
    },
    {
     "name": "stderr",
     "output_type": "stream",
     "text": [
      "102024it [03:10, 535.67it/s]  \n"
     ]
    },
    {
     "name": "stdout",
     "output_type": "stream",
     "text": [
      "dev reversed len: 88914 original len: 102024\n"
     ]
    },
    {
     "name": "stderr",
     "output_type": "stream",
     "text": [
      "152209it [03:43, 680.89it/s]  \n"
     ]
    },
    {
     "name": "stdout",
     "output_type": "stream",
     "text": [
      "test reversed len: 137360 original len: 152209\n"
     ]
    }
   ],
   "source": [
    "import pandas as pd\n",
    "from tqdm import tqdm\n",
    "import numpy as np\n",
    "comet_tsv_file = \"/home/tfangaa/projects/comet-atomic-2020/data/kg/atomic2020_data-feb2021/{}.tsv\"\n",
    "comet_datasets = {\n",
    "    \"train\": pd.read_csv(comet_tsv_file.format(\"train\"), encoding='latin-1', sep=\"\\t\"),\n",
    "    \"dev\": pd.read_csv(comet_tsv_file.format(\"dev\"), encoding='latin-1', sep=\"\\t\"),\n",
    "    \"test\": pd.read_csv(comet_tsv_file.format(\"test\"), encoding='latin-1', sep=\"\\t\"),\n",
    "}\n",
    "\n",
    "for split in [\"train\", \"dev\", \"test\"]:\n",
    "    reversed_edges = []\n",
    "    reversed_edges_xy_reversed = []\n",
    "    for i, (head, relation, tail) in tqdm(comet_datasets[split][[\"head_event\", \"relation\", \"tail_event\"]].iterrows()):\n",
    "        if tail == \"none\" or tail == \"\" or not isinstance(tail, str):\n",
    "            continue\n",
    "        # if relation in the original ATOMIC relations. Process tails with subjects\n",
    "        if relation in tail_processed_relations:\n",
    "            tail = process_tail(tail, relation)\n",
    "        reversed_edges.append([tail, relation + \" inversed\", head])\n",
    "        if relation in [\"oEffect\", \"oReact\", \"oWant\"]:\n",
    "            head = head.replace(\"PersonX\", \"[PY]\").replace(\"PersonY\", \"[PX]\")\\\n",
    "                .replace(\"[PX]\", \"PersonX\").replace(\"[PY]\", \"PersonY\")\n",
    "            tail = tail.replace(\"PersonX\", \"[PY]\").replace(\"PersonY\", \"[PX]\")\\\n",
    "                .replace(\"[PX]\", \"PersonX\").replace(\"[PY]\", \"PersonY\")\n",
    "        reversed_edges_xy_reversed.append([tail, relation + \" inversed\", head])\n",
    "    \n",
    "    print(split, \"reversed len:\", len(reversed_edges), \"original len:\", len(comet_datasets[split]))\n",
    "    # inversed augmented version\n",
    "    comet_datasets[split].append(\n",
    "        pd.DataFrame(reversed_edges, columns=[\"head_event\", \"relation\", \"tail_event\"],\n",
    "                    index=range(len(comet_datasets[split]), \n",
    "                                len(comet_datasets[split]) + len(reversed_edges)))\n",
    "    ).to_csv(comet_tsv_file.format(split + \"_inversed\"), index=False, encoding='latin-1', sep=\"\\t\")\n",
    "    # inversed augmented with PersonY PersonX replaced (for o-relations)\n",
    "    comet_datasets[split].append(\n",
    "        pd.DataFrame(reversed_edges_xy_reversed, columns=[\"head_event\", \"relation\", \"tail_event\"],\n",
    "                    index=range(len(comet_datasets[split]), \n",
    "                                len(comet_datasets[split]) + len(reversed_edges)))\n",
    "    ).to_csv(comet_tsv_file.format(split + \"_inversed_xy_reversed\"), index=False, encoding='latin-1', sep=\"\\t\")"
   ]
  },
  {
   "cell_type": "code",
   "execution_count": null,
   "metadata": {},
   "outputs": [],
   "source": [
    "import numpy as np\n",
    "reversed_edges_xy_reversed_triple = [\" | \".join((h, r, t)) for h, r, t in reversed_edges_xy_reversed]\n",
    "np.random.choice(reversed_edges_xy_reversed_triple, 100)\n",
    "# \"to see y work xNeed inversed PersonX loves PersonY's work\",\n",
    "# 'PersonX PersonX reaches past it xEffect inversed PersonX reaches around PersonY',\n",
    "# "
   ]
  },
  {
   "cell_type": "markdown",
   "metadata": {},
   "source": [
    "# Check sentence lengths"
   ]
  },
  {
   "cell_type": "code",
   "execution_count": 79,
   "metadata": {},
   "outputs": [],
   "source": [
    "CS_RELATIONS_2NL = {\n",
    "    \"AtLocation\": \"located or found at or in or on\",\n",
    "    \"CapableOf\": \"is or are capable of\",\n",
    "    \"Causes\" : \"causes\",\n",
    "    \"CausesDesire\": \"makes someone want\",\n",
    "    \"CreatedBy\": \" is created by\",\n",
    "    \"Desires\": \"desires\",\n",
    "    \"HasA\": \"has, possesses, or contains\",\n",
    "    \"HasFirstSubevent\": \"begins with the event or action\",\n",
    "    \"HasLastSubevent\": \"ends with the event or action\",\n",
    "    \"HasPrerequisite\": \"to do this, one requires\",\n",
    "    \"HasProperty\": \"can be characterized by being or having\",\n",
    "    \"HasSubEvent\" : \"includes the event or action\",\n",
    "    \"HinderedBy\" : \"can be hindered by\",\n",
    "    \"InstanceOf\" : \" is an example or instance of\",\n",
    "    \"isAfter\" : \"happens after\",\n",
    "    \"isBefore\" : \"happens before\",\n",
    "    \"isFilledBy\" : \"blank can be filled by\",\n",
    "    \"MadeOf\": \"is made of\",\n",
    "    \"MadeUpOf\": \"made up of\",\n",
    "    \"MotivatedByGoal\": \"is a step towards accomplishing the goal\",\n",
    "    \"NotDesires\": \"do not desire\",\n",
    "    \"ObjectUse\": \"used for\",\n",
    "    \"UsedFor\": \"used for\",\n",
    "    \"oEffect\" : \"as a result, PersonY or others will\",\n",
    "    \"oReact\" : \"as a result, PersonY or others feel\",\n",
    "    \"oWant\" : \"as a result, PersonY or others want to\",\n",
    "    \"PartOf\" : \"is a part of\",\n",
    "    \"ReceivesAction\" : \"can receive or be affected by the action\",\n",
    "    \"xAttr\" : \"PersonX is seen as\",\n",
    "    \"xEffect\" : \"as a result, PersonX will\",\n",
    "    \"xReact\" : \"as a result, PersonX feels\",\n",
    "    \"xWant\" : \"as a result, PersonX wants to\",\n",
    "    \"xNeed\" : \"but before, PersonX needed\",\n",
    "    \"xIntent\" : \"because PersonX wanted\",\n",
    "    \"xReason\" : \"because\",\n",
    "    \"general Effect\" : \"as a result, other people or things will\",\n",
    "    \"general Want\" : \"as a result, other people or things want to\",\n",
    "    \"general React\" : \"as a result, other people or things feel\",\n",
    "    # inversed\n",
    "    \"AtLocation inversed\": \"can find or include\", # \"located or found at or in or on\"\n",
    "    \"CapableOf inversed\": \"is a skill of\", # \"is or are capable of\"\n",
    "    \"Causes inversed\" : \"is the reason of\", # causes\n",
    "    \"CausesDesire inversed\": \"want\", # \"makes someone want\",\n",
    "    \"CreatedBy inversed\": \"create\", # \"is created by\",\n",
    "    \"Desires inversed\": \"is desired by\", # \"desires\",\n",
    "    \"HasA inversed\": \"is possessed by\",# \"has, possesses, or contains\",\n",
    "    \"HasFirstSubevent inversed\": \"is the beginning of\", # \"begins with the event or action\",\n",
    "    \"HasLastSubevent inversed\": \"is the end of\", # \"ends with the event or action\",\n",
    "    \"HasPrerequisite inversed\": \"is the prerequisite of\",# \"to do this, one requires\",\n",
    "    \"HasProperty inversed\": \"is the property of\", # \"can be characterized by being or having\",\n",
    "    \"HasSubEvent inversed\" : \"is included by\",# \"includes the event or action\",\n",
    "    \"HinderedBy inversed\" : \"hinder\", #\"can be hindered by\",\n",
    "    \"InstanceOf inversed\" : \"include\", #\" is an example or instance of\", not sure about this.\n",
    "    \"isAfter inversed\" : \"happens before\", # \"happens after\",\n",
    "    \"isBefore inversed\" : \"happens after\", # \"happens before\",\n",
    "    \"isFilledBy inversed\" : \"can fill\",# \"blank can be filled by\",\n",
    "    \"MadeOf inversed\": \"make up of\", # \"is made of\", \n",
    "    \"MadeUpOf inversed\": \"is made of\", # \"made up of\",\n",
    "    \"MotivatedByGoal inversed\": \"motivate\", # \"is a step towards accomplishing the goal\",\n",
    "    \"NotDesires inversed\": \"is not desired by\", # \"do not desire\",\n",
    "    \"ObjectUse inversed\": \"could make use of\", # \"used for\",\n",
    "    \"UsedFor inversed\": \"could make use of\", # \"used for\",\n",
    "    \"oEffect inversed\" : \"because\", #\"as a result, PersonY or others will\",\n",
    "    \"oReact inversed\" : \"because\", #\"as a result, PersonY or others feel\",\n",
    "    \"oWant inversed\" : \"because\", # \"as a result, PersonY or others want to\",\n",
    "    \"PartOf inversed\" : \"include\", # \"is a part of\",\n",
    "    \"ReceivesAction inversed\" : \"affect\", # \"can receive or be affected by the action\",\n",
    "    \"xAttr inversed\" : \"\", # \"PersonX is seen as\",\n",
    "    \"xEffect inversed\" : \"because\", # \"as a result, PersonX will\",\n",
    "    \"xReact inversed\" : \"because\", # \"as a result, PersonX feels\",\n",
    "    \"xWant inversed\" : \"because\",# \"as a result, PersonX wants to\",\n",
    "    \"xNeed inversed\" : \"as a result, \",# \"but before, PersonX needed\",\n",
    "    \"xIntent inversed\" : \"as a result, \", # \"because PersonX wanted\",\n",
    "    \"xReason inversed\" : \"as a result, \",# \"because\",\n",
    "    \"general Effect inversed\" : \"because\", # \"as a result, other people or things will\",\n",
    "    \"general Want inversed\" : \"because\", # \"as a result, other people or things want to\",\n",
    "    \"general React inversed\" : \"because\", # \"as a result, other people or things feel\",\n",
    "}"
   ]
  },
  {
   "cell_type": "code",
   "execution_count": 81,
   "metadata": {},
   "outputs": [
    {
     "name": "stderr",
     "output_type": "stream",
     "text": [
      "2033930it [02:34, 13198.42it/s]\n"
     ]
    }
   ],
   "source": [
    "comet_tsv_file = \"/home/tfangaa/projects/comet-atomic-2020/data/kg/atomic2020_data-feb2021/{}_inversed.tsv\"\n",
    "comet_datasets = {\n",
    "    \"train\": pd.read_csv(comet_tsv_file.format(\"train\"), encoding='latin-1', sep=\"\\t\"),\n",
    "}\n",
    "\n",
    "split = \"train\"\n",
    "\n",
    "sent_lenghts = []\n",
    "\n",
    "for i, (head, relation, tail) in tqdm(comet_datasets[split][[\"head_event\", \"relation\", \"tail_event\"]].iterrows()):\n",
    "    sent_lenghts.append( len(head.split()) + len(CS_RELATIONS_2NL[relation].split()) + len(str(tail).split()) )"
   ]
  },
  {
   "cell_type": "code",
   "execution_count": 83,
   "metadata": {},
   "outputs": [
    {
     "data": {
      "image/png": "[encoded data removed]",
      "text/plain": [
       "<Figure size 432x288 with 1 Axes>"
      ]
     },
     "metadata": {
      "needs_background": "light"
     },
     "output_type": "display_data"
    }
   ],
   "source": [
    "from matplotlib import pyplot as plt\n",
    "\n",
    "plt.hist(sent_lenghts, bins=range(max(sent_lenghts)))\n",
    "\n",
    "plt.show()"
   ]
  },
  {
   "cell_type": "code",
   "execution_count": null,
   "metadata": {},
   "outputs": [],
   "source": []
  }
 ],
 "metadata": {
  "kernelspec": {
   "display_name": "Python 3",
   "language": "python",
   "name": "python3"
  },
  "language_info": {
   "codemirror_mode": {
    "name": "ipython",
    "version": 3
   },
   "file_extension": ".py",
   "mimetype": "text/x-python",
   "name": "python",
   "nbconvert_exporter": "python",
   "pygments_lexer": "ipython3",
   "version": "3.8.5"
  }
 },
 "nbformat": 4,
 "nbformat_minor": 4
}
